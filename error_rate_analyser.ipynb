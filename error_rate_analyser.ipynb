{
 "cells": [
  {
   "cell_type": "code",
   "execution_count": null,
   "metadata": {},
   "outputs": [],
   "source": [
    "# ولكن بان في الأوان الأخيره"
   ]
  },
  {
   "cell_type": "code",
   "execution_count": 3,
   "metadata": {},
   "outputs": [
    {
     "name": "stdout",
     "output_type": "stream",
     "text": [
      "Collecting pd\n",
      "  Downloading pd-0.0.4-py3-none-any.whl (6.5 kB)\n",
      "Installing collected packages: pd\n",
      "Successfully installed pd-0.0.4\n"
     ]
    }
   ],
   "source": [
    "! pip install pd"
   ]
  },
  {
   "cell_type": "code",
   "execution_count": 1,
   "metadata": {},
   "outputs": [],
   "source": [
    "# open AR-all.alignment-FINAL.csv \n",
    "import pandas as pd\n",
    "\n",
    "# open AR-all.alignment-FINAL.csv\n",
    "df = pd.read_csv('ZAEBUC-v1.0/AR-all.alignment-FINAL.tsv', encoding='utf_8',sep='\\t')\n",
    "# get column 'raw'\n",
    "raw = df['Raw']"
   ]
  },
  {
   "cell_type": "code",
   "execution_count": 2,
   "metadata": {},
   "outputs": [],
   "source": [
    "def count_different_letters(word1, word2):\n",
    "    count = 0\n",
    "    length = min(len(word1), len(word2))\n",
    "    maxi = max(len(word1), len(word2))\n",
    "    count = maxi - length\n",
    "\n",
    "    # Count the number of different letters\n",
    "    count = count + sum(1 for c1, c2 in zip(word1[:length], word2[:length]) if c1 != c2)\n",
    "    return count\n"
   ]
  },
  {
   "cell_type": "code",
   "execution_count": 3,
   "metadata": {},
   "outputs": [],
   "source": [
    "from camel_tools.tokenizers.word import simple_word_tokenize\n",
    "from camel_tools.disambig.mle import MLEDisambiguator\n",
    "\n",
    "from camel_tools.utils.dediac import dediac_ar\n",
    "\n",
    "mle = MLEDisambiguator.pretrained()\n",
    "\n",
    "\n",
    "errors = []\n",
    "for word in raw:\n",
    "    # if word is string\n",
    "    if isinstance(word, str):\n",
    "        disambig = mle.disambiguate([str(word)])\n",
    "        dediac_disambig = dediac_ar(disambig[0].analyses[0].analysis['diac'])\n",
    "        if word == 'و':\n",
    "            errors.append(2)\n",
    "        elif word != dediac_disambig:\n",
    "            # check how many letters are different\n",
    "            errors.append(count_different_letters(word, dediac_disambig))\n",
    "        else:\n",
    "            errors.append(0)\n",
    "    else:\n",
    "        errors.append(0)"
   ]
  },
  {
   "cell_type": "code",
   "execution_count": 4,
   "metadata": {},
   "outputs": [],
   "source": [
    "# add a column to the dataframe with the errors\n",
    "df['errors'] = errors\n",
    "\n",
    "# save the dataframe to a csv file\n",
    "df.to_csv('AR-all.alignment-FINAL-with-errors.csv', encoding='utf_8',sep='\\t')"
   ]
  },
  {
   "cell_type": "code",
   "execution_count": null,
   "metadata": {},
   "outputs": [],
   "source": [
    "# 1479 waws"
   ]
  },
  {
   "cell_type": "code",
   "execution_count": 4,
   "metadata": {},
   "outputs": [
    {
     "name": "stdout",
     "output_type": "stream",
     "text": [
      "Collecting xmltodict\n",
      "  Using cached xmltodict-0.13.0-py2.py3-none-any.whl (10.0 kB)\n",
      "Installing collected packages: xmltodict\n",
      "Successfully installed xmltodict-0.13.0\n"
     ]
    }
   ],
   "source": [
    "!pip install xmltodict"
   ]
  },
  {
   "cell_type": "code",
   "execution_count": 14,
   "metadata": {},
   "outputs": [],
   "source": [
    "import xmltodict\n",
    "import numpy as np\n",
    "import pandas as pd\n",
    "ZAEBUC_AR_COR = pd.read_csv('ZAEBUC-v1.0/AR-all.extracted.corrected.analyzed.corrected-FINAL.tsv', encoding='utf_8',sep='\\t')\n",
    "\n",
    "docs = ZAEBUC_AR_COR['Document'].apply(lambda x: x if x.startswith('<') else np.nan).dropna()\n",
    "\n",
    "grades = []\n",
    "word_count = []\n",
    "\n",
    "for xml in docs:\n",
    "    if xml != \"</doc>\":\n",
    "        doc = xmltodict.parse(xml)\n",
    "        grades.append(doc[\"doc\"][\"@CEFR\"])\n",
    "        word_count.append(doc[\"doc\"][\"@word_count\"])"
   ]
  },
  {
   "cell_type": "code",
   "execution_count": 15,
   "metadata": {},
   "outputs": [],
   "source": [
    "errors_df = pd.DataFrame()\n",
    "\n",
    "errors_df['errors'] = df.groupby('Document')['errors'].sum()\n",
    "errors_df['word count'] = df.groupby('Document')['Raw'].count()\n",
    "errors_df['existing word count'] = word_count\n",
    "\n",
    "# calculate the error rate\n",
    "errors_df['error rate'] = errors_df['errors'] / errors_df['word count']\n",
    "errors_df['grade'] = grades\n",
    "\n",
    "errors_df.to_csv('error_rates.csv', index=True)\n"
   ]
  },
  {
   "cell_type": "code",
   "execution_count": 19,
   "metadata": {},
   "outputs": [
    {
     "name": "stdout",
     "output_type": "stream",
     "text": [
      "Collecting seaborn\n",
      "  Using cached seaborn-0.12.2-py3-none-any.whl (293 kB)\n",
      "Requirement already satisfied: typing_extensions in /Users/noor/anaconda3/envs/CAMeLBERT_morphosyntactic_tagger/lib/python3.7/site-packages (from seaborn) (4.7.1)\n",
      "Requirement already satisfied: numpy!=1.24.0,>=1.17 in /Users/noor/anaconda3/envs/CAMeLBERT_morphosyntactic_tagger/lib/python3.7/site-packages (from seaborn) (1.21.6)\n",
      "Requirement already satisfied: matplotlib!=3.6.1,>=3.1 in /Users/noor/anaconda3/envs/CAMeLBERT_morphosyntactic_tagger/lib/python3.7/site-packages (from seaborn) (3.5.3)\n",
      "Requirement already satisfied: pandas>=0.25 in /Users/noor/anaconda3/envs/CAMeLBERT_morphosyntactic_tagger/lib/python3.7/site-packages (from seaborn) (1.3.5)\n",
      "Requirement already satisfied: python-dateutil>=2.7 in /Users/noor/anaconda3/envs/CAMeLBERT_morphosyntactic_tagger/lib/python3.7/site-packages (from matplotlib!=3.6.1,>=3.1->seaborn) (2.8.2)\n",
      "Requirement already satisfied: kiwisolver>=1.0.1 in /Users/noor/anaconda3/envs/CAMeLBERT_morphosyntactic_tagger/lib/python3.7/site-packages (from matplotlib!=3.6.1,>=3.1->seaborn) (1.4.5)\n",
      "Requirement already satisfied: pillow>=6.2.0 in /Users/noor/anaconda3/envs/CAMeLBERT_morphosyntactic_tagger/lib/python3.7/site-packages (from matplotlib!=3.6.1,>=3.1->seaborn) (9.5.0)\n",
      "Requirement already satisfied: cycler>=0.10 in /Users/noor/anaconda3/envs/CAMeLBERT_morphosyntactic_tagger/lib/python3.7/site-packages (from matplotlib!=3.6.1,>=3.1->seaborn) (0.11.0)\n",
      "Requirement already satisfied: fonttools>=4.22.0 in /Users/noor/anaconda3/envs/CAMeLBERT_morphosyntactic_tagger/lib/python3.7/site-packages (from matplotlib!=3.6.1,>=3.1->seaborn) (4.38.0)\n",
      "Requirement already satisfied: pyparsing>=2.2.1 in /Users/noor/anaconda3/envs/CAMeLBERT_morphosyntactic_tagger/lib/python3.7/site-packages (from matplotlib!=3.6.1,>=3.1->seaborn) (3.1.1)\n",
      "Requirement already satisfied: packaging>=20.0 in /Users/noor/anaconda3/envs/CAMeLBERT_morphosyntactic_tagger/lib/python3.7/site-packages (from matplotlib!=3.6.1,>=3.1->seaborn) (23.2)\n",
      "Requirement already satisfied: pytz>=2017.3 in /Users/noor/anaconda3/envs/CAMeLBERT_morphosyntactic_tagger/lib/python3.7/site-packages (from pandas>=0.25->seaborn) (2023.3.post1)\n",
      "Requirement already satisfied: six>=1.5 in /Users/noor/anaconda3/envs/CAMeLBERT_morphosyntactic_tagger/lib/python3.7/site-packages (from python-dateutil>=2.7->matplotlib!=3.6.1,>=3.1->seaborn) (1.16.0)\n",
      "Installing collected packages: seaborn\n",
      "Successfully installed seaborn-0.12.2\n"
     ]
    }
   ],
   "source": [
    "! pip install seaborn"
   ]
  },
  {
   "cell_type": "code",
   "execution_count": 20,
   "metadata": {},
   "outputs": [
    {
     "data": {
      "image/png": "[encoded data removed]",
      "text/plain": [
       "<Figure size 640x480 with 1 Axes>"
      ]
     },
     "metadata": {},
     "output_type": "display_data"
    }
   ],
   "source": [
    "# plot the relation between the error rate and the grade\n",
    "import matplotlib.pyplot as plt\n",
    "import seaborn as sns\n",
    "\n",
    "sns.set(style=\"whitegrid\")\n",
    "\n",
    "ax = sns.boxplot(x=\"grade\", y=\"error rate\", data=errors_df)\n",
    "ax = sns.swarmplot(x=\"grade\", y=\"error rate\", data=errors_df, color=\".25\")\n",
    "\n",
    "plt.show()"
   ]
  },
  {
   "cell_type": "code",
   "execution_count": null,
   "metadata": {},
   "outputs": [],
   "source": []
  }
 ],
 "metadata": {
  "kernelspec": {
   "display_name": "CAMeLBERT_morphosyntactic_tagger",
   "language": "python",
   "name": "python3"
  },
  "language_info": {
   "codemirror_mode": {
    "name": "ipython",
    "version": 3
   },
   "file_extension": ".py",
   "mimetype": "text/x-python",
   "name": "python",
   "nbconvert_exporter": "python",
   "pygments_lexer": "ipython3",
   "version": "3.7.16"
  },
  "orig_nbformat": 4
 },
 "nbformat": 4,
 "nbformat_minor": 2
}
